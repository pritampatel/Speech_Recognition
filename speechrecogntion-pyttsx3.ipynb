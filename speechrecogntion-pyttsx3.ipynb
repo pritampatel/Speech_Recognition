{
 "cells": [
  {
   "cell_type": "code",
   "execution_count": null,
   "id": "loaded-chrome",
   "metadata": {},
   "outputs": [],
   "source": [
    "!pip install speechrecognition\n",
    "!pip install pyttsx3"
   ]
  },
  {
   "cell_type": "markdown",
   "id": "caroline-manchester",
   "metadata": {},
   "source": [
    "# On Mic"
   ]
  },
  {
   "cell_type": "code",
   "execution_count": null,
   "id": "useful-crawford",
   "metadata": {},
   "outputs": [],
   "source": [
    "import speech_recognition as sr \n",
    "import pyttsx3  \n",
    "  \n",
    "# Initialize the recognizer  \n",
    "r = sr.Recognizer()  \n",
    "  \n",
    "# Function to convert text to \n",
    "# speech \n",
    "def SpeakText(command): \n",
    "      \n",
    "    # Initialize the engine \n",
    "    engine = pyttsx3.init() \n",
    "    engine.say(command)  \n",
    "    engine.runAndWait() \n",
    "      \n",
    "      \n",
    "# Loop infinitely for user to \n",
    "# speak \n",
    "  \n",
    "while(1):     \n",
    "      \n",
    "    # Exception handling to handle \n",
    "    # exceptions at the runtime \n",
    "    try: \n",
    "          \n",
    "        # use the microphone as source for input. \n",
    "        with sr.Microphone() as source2: \n",
    "              \n",
    "            # wait for a second to let the recognizer \n",
    "            # adjust the energy threshold based on \n",
    "            # the surrounding noise level  \n",
    "            r.adjust_for_ambient_noise(source2, duration=0.2) \n",
    "              \n",
    "            #listens for the user's input  \n",
    "            audio2 = r.listen(source2) \n",
    "              \n",
    "            # Using ggogle to recognize audio \n",
    "            MyText = r.recognize_google(audio2) \n",
    "            MyText = MyText.lower() \n",
    "  \n",
    "            print(\"Did you say \"+MyText) \n",
    "            SpeakText(MyText) \n",
    "              \n",
    "    except sr.RequestError as e: \n",
    "        print(\"Could not request results; {0}\".format(e)) \n",
    "          \n",
    "    except sr.UnknownValueError: \n",
    "        print(\"unknown error occured\") "
   ]
  },
  {
   "cell_type": "markdown",
   "id": "differential-preservation",
   "metadata": {},
   "source": [
    "# On a Audio File"
   ]
  },
  {
   "cell_type": "code",
   "execution_count": null,
   "id": "public-advocate",
   "metadata": {},
   "outputs": [],
   "source": [
    "import speech_recognition as sr \n",
    "import pyttsx3  \n",
    "  \n",
    "# Initialize the recognizer  \n",
    "r = sr.Recognizer()  \n",
    "source2='/content/Recording.wav'"
   ]
  },
  {
   "cell_type": "code",
   "execution_count": null,
   "id": "potential-nirvana",
   "metadata": {},
   "outputs": [],
   "source": [
    "audio2 = r.listen(source2) \n",
    "  \n",
    "# Using ggogle to recognize audio \n",
    "MyText = r.recognize_google(audio2) \n",
    "MyText = MyText.lower() \n",
    "\n",
    "print(\"Did you say \"+MyText) \n",
    "SpeakText(MyText) "
   ]
  },
  {
   "cell_type": "code",
   "execution_count": null,
   "id": "christian-return",
   "metadata": {},
   "outputs": [],
   "source": []
  },
  {
   "cell_type": "code",
   "execution_count": null,
   "id": "alpine-bicycle",
   "metadata": {},
   "outputs": [],
   "source": [
    "filename = \"/content/music1.mp3\"\n",
    "with sr.AudioFile(filename) as source:\n",
    "    # listen for the data (load audio to memory)\n",
    "    audio_data = r.record(source)\n",
    "    # recognize (convert from speech to text)\n",
    "    text = r.recognize_google(audio_data)\n",
    "    print(text)"
   ]
  }
 ],
 "metadata": {
  "kernelspec": {
   "display_name": "Python 3",
   "language": "python",
   "name": "python3"
  },
  "language_info": {
   "codemirror_mode": {
    "name": "ipython",
    "version": 3
   },
   "file_extension": ".py",
   "mimetype": "text/x-python",
   "name": "python",
   "nbconvert_exporter": "python",
   "pygments_lexer": "ipython3",
   "version": "3.8.5"
  }
 },
 "nbformat": 4,
 "nbformat_minor": 5
}
